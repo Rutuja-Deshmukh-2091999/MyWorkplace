{
  "nbformat": 4,
  "nbformat_minor": 0,
  "metadata": {
    "colab": {
      "name": "Patterns.ipynb",
      "provenance": [],
      "authorship_tag": "ABX9TyN5k3DhIgIdMMrhsPlbFHDH",
      "include_colab_link": true
    },
    "kernelspec": {
      "name": "python3",
      "display_name": "Python 3"
    },
    "language_info": {
      "name": "python"
    }
  },
  "cells": [
    {
      "cell_type": "markdown",
      "metadata": {
        "id": "view-in-github",
        "colab_type": "text"
      },
      "source": [
        "<a href=\"https://colab.research.google.com/github/Rutuja-Deshmukh-2091999/MyWorkplace/blob/main/Patterns.ipynb\" target=\"_parent\"><img src=\"https://colab.research.google.com/assets/colab-badge.svg\" alt=\"Open In Colab\"/></a>"
      ]
    },
    {
      "cell_type": "markdown",
      "metadata": {
        "id": "nq0nVA-F8_Ak"
      },
      "source": [
        "# **Patterns in Python**\n",
        "with user input.\n"
      ]
    },
    {
      "cell_type": "markdown",
      "metadata": {
        "id": "MqHGyi5P9yHE"
      },
      "source": [
        "1.\n",
        "```\n",
        "5 5 5 5 5\n",
        "5 5 5 5\n",
        "5 5 5\n",
        "5 5\n",
        "5\n",
        "```\n",
        "\n",
        "\n",
        "\n"
      ]
    },
    {
      "cell_type": "code",
      "metadata": {
        "id": "MCF6qE9x9b3N",
        "colab": {
          "base_uri": "https://localhost:8080/"
        },
        "outputId": "4cc2fd42-06df-4af3-e4a9-283cc4921f4b"
      },
      "source": [
        "a = int(input())\n",
        "print(\"---------------------\")\n",
        "for i in range(a,0,-1):\n",
        "  print(i* str(a))\n",
        "  i += 1\n",
        "  "
      ],
      "execution_count": 52,
      "outputs": [
        {
          "output_type": "stream",
          "name": "stdout",
          "text": [
            "5\n",
            "---------------------\n",
            "55555\n",
            "5555\n",
            "555\n",
            "55\n",
            "5\n"
          ]
        }
      ]
    },
    {
      "cell_type": "markdown",
      "metadata": {
        "id": "y1tF9R5ujB7j"
      },
      "source": [
        ""
      ]
    }
  ]
}