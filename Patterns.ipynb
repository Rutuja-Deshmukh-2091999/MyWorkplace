{
  "nbformat": 4,
  "nbformat_minor": 0,
  "metadata": {
    "colab": {
      "name": "Patterns.ipynb",
      "provenance": [],
      "collapsed_sections": []
    },
    "kernelspec": {
      "name": "python3",
      "display_name": "Python 3"
    },
    "language_info": {
      "name": "python"
    }
  },
  "cells": [
    {
      "cell_type": "markdown",
      "metadata": {
        "id": "nq0nVA-F8_Ak"
      },
      "source": [
        "# **Patterns in Python**\n",
        "with user input.\n"
      ]
    },
    {
      "cell_type": "markdown",
      "metadata": {
        "id": "MqHGyi5P9yHE"
      },
      "source": [
        "**1.**\n",
        "```\n",
        "5 5 5 5 5\n",
        "5 5 5 5\n",
        "5 5 5\n",
        "5 5\n",
        "5\n",
        "```\n",
        "\n",
        "\n",
        "\n"
      ]
    },
    {
      "cell_type": "code",
      "metadata": {
        "id": "MCF6qE9x9b3N",
        "colab": {
          "base_uri": "https://localhost:8080/"
        },
        "outputId": "28c718e1-37f0-456b-8ec1-eb279f3d6287"
      },
      "source": [
        "a = int(input(\"Enter the Number - \"))\n",
        "print(\"---------------------\")\n",
        "for i in range(a,0,-1):\n",
        "  print(' '.join(i * str(a)))\n",
        "  i += 1\n",
        "  "
      ],
      "execution_count": null,
      "outputs": [
        {
          "output_type": "stream",
          "name": "stdout",
          "text": [
            "Enter the Number - 5\n",
            "---------------------\n",
            "5 5 5 5 5\n",
            "5 5 5 5\n",
            "5 5 5\n",
            "5 5\n",
            "5\n"
          ]
        }
      ]
    },
    {
      "cell_type": "markdown",
      "metadata": {
        "id": "dE_TATjwpLYn"
      },
      "source": [
        "**--------------------------------------------------------------------------------------------------------------------------------**"
      ]
    },
    {
      "cell_type": "markdown",
      "metadata": {
        "id": "y1tF9R5ujB7j"
      },
      "source": [
        "**2.**\n",
        "```\n",
        "0 1 2 3 4 5\n",
        "0 1 2 3 4\n",
        "0 1 2 3\n",
        "0 1 2\n",
        "0 1\n",
        "0\n",
        "```\n",
        "\n"
      ]
    },
    {
      "cell_type": "code",
      "metadata": {
        "colab": {
          "base_uri": "https://localhost:8080/"
        },
        "id": "kyViJ0mH32ta",
        "outputId": "f187aa28-f11d-43fe-a01d-110655024981"
      },
      "source": [
        "a = int(input(\"Enter the Number - \"))\n",
        "print(\"---------------------\")\n",
        "for i in range(0,a+1):\n",
        "  for j in range(0,a-i):\n",
        "    print(j,end = \" \")\n",
        "  print()"
      ],
      "execution_count": null,
      "outputs": [
        {
          "output_type": "stream",
          "name": "stdout",
          "text": [
            "Enter the Number - 6\n",
            "---------------------\n",
            "0 1 2 3 4 5 \n",
            "0 1 2 3 4 \n",
            "0 1 2 3 \n",
            "0 1 2 \n",
            "0 1 \n",
            "0 \n",
            "\n"
          ]
        }
      ]
    },
    {
      "cell_type": "markdown",
      "metadata": {
        "id": "Vj5SsNxmpEpO"
      },
      "source": [
        "**--------------------------------------------------------------------------------------------------------------------------------**"
      ]
    },
    {
      "cell_type": "markdown",
      "metadata": {
        "id": "fgF0OTqfdw1N"
      },
      "source": [
        "**3.**\n",
        "```\n",
        "1\n",
        "3 3\n",
        "5 5 5\n",
        "7 7 7 7\n",
        "9 9 9 9 9\n",
        "```"
      ]
    },
    {
      "cell_type": "code",
      "metadata": {
        "colab": {
          "base_uri": "https://localhost:8080/"
        },
        "id": "GEneU6mZeEiO",
        "outputId": "89c22694-fbb7-4658-f1ba-8ecee42146f0"
      },
      "source": [
        "a = int(input(\"Enter the Number - \"))\n",
        "print(\"-------------------------\")\n",
        "for i in range(0,a+1):\n",
        "  for j in range(i):\n",
        "    print(i*2-1,end = \" \")\n",
        "  print()"
      ],
      "execution_count": null,
      "outputs": [
        {
          "output_type": "stream",
          "name": "stdout",
          "text": [
            "Enter the Number - 5\n",
            "-------------------------\n",
            "\n",
            "1 \n",
            "3 3 \n",
            "5 5 5 \n",
            "7 7 7 7 \n",
            "9 9 9 9 9 \n"
          ]
        }
      ]
    },
    {
      "cell_type": "markdown",
      "metadata": {
        "id": "0GjvMaHlo9ib"
      },
      "source": [
        "**--------------------------------------------------------------------------------------------------------------------------------**"
      ]
    },
    {
      "cell_type": "markdown",
      "metadata": {
        "id": "AchIA_IUi0B0"
      },
      "source": [
        "**4.**\n",
        "```\n",
        "1\n",
        "2 1\n",
        "3 2 1\n",
        "4 3 2 1\n",
        "5 4 3 2 1\n",
        "```\n",
        "\n"
      ]
    },
    {
      "cell_type": "code",
      "metadata": {
        "colab": {
          "base_uri": "https://localhost:8080/"
        },
        "id": "twZqYlBUkkB6",
        "outputId": "45342423-ccf3-4834-ad90-691d6d13c8b6"
      },
      "source": [
        "a = int(input(\"Enter the Number - \"))\n",
        "print(\"--------------------------\")\n",
        "for i in range(a+1):\n",
        "  for j in range(i,0,-1):\n",
        "    print(j,end = \" \")\n",
        "  print()"
      ],
      "execution_count": null,
      "outputs": [
        {
          "output_type": "stream",
          "name": "stdout",
          "text": [
            "Enter the Number - 5\n",
            "--------------------------\n",
            "\n",
            "1 \n",
            "2 1 \n",
            "3 2 1 \n",
            "4 3 2 1 \n",
            "5 4 3 2 1 \n"
          ]
        }
      ]
    },
    {
      "cell_type": "markdown",
      "metadata": {
        "id": "OHyKbqFKorR1"
      },
      "source": [
        "**------------------------------------------------------------------------------------------------------------------------------**"
      ]
    },
    {
      "cell_type": "markdown",
      "metadata": {
        "id": "NK5EwYefmrkE"
      },
      "source": [
        "**5.**\n",
        "```\n",
        "1\n",
        "3 2\n",
        "6 5 4\n",
        "10 9 8 7 \n",
        "```"
      ]
    },
    {
      "cell_type": "code",
      "metadata": {
        "colab": {
          "base_uri": "https://localhost:8080/"
        },
        "id": "y0qbZO85ncP_",
        "outputId": "9df61737-53ca-490a-b98b-767d969f570c"
      },
      "source": [
        "start = 1\n",
        "stop = 2\n",
        "num = stop\n",
        "for i in range(2,6):\n",
        "  for j in range(start,stop):\n",
        "    num -= 1\n",
        "    print(num,end = \" \")\n",
        "  print()\n",
        "  start = stop\n",
        "  stop += i\n",
        "  num = stop\n"
      ],
      "execution_count": null,
      "outputs": [
        {
          "output_type": "stream",
          "name": "stdout",
          "text": [
            "1 \n",
            "3 2 \n",
            "6 5 4 \n",
            "10 9 8 7 \n"
          ]
        }
      ]
    },
    {
      "cell_type": "markdown",
      "source": [
        "**------------------------------------------------------------------------------------------------------------------------**"
      ],
      "metadata": {
        "id": "m2sHJCnbI6gJ"
      }
    },
    {
      "cell_type": "markdown",
      "metadata": {
        "id": "GVrNJQz8MDlB"
      },
      "source": [
        "6.\n",
        "```\n",
        "1\n",
        "1 1\n",
        "1 2 1\n",
        "1 3 3 1\n",
        "1 4 6 4 1\n",
        "1 5 10 10 5 1\n",
        "1 6 15 20 15 6 1\n",
        "```\n",
        "\n"
      ]
    },
    {
      "cell_type": "code",
      "metadata": {
        "id": "-uQY5G_CMNLJ",
        "colab": {
          "base_uri": "https://localhost:8080/"
        },
        "outputId": "a0f582f3-dc9e-4645-aad6-49e6acfdc2b3"
      },
      "source": [
        "def pascal_triangle(size):\n",
        "  for i in range(0,size):\n",
        "    for j in range(0, i + 1):\n",
        "            print(decide_number(i, j), end=\" \")\n",
        "    print()\n",
        "\n",
        "\n",
        "def decide_number(n, k):\n",
        "    num = 1\n",
        "    if k > n - k:\n",
        "        k = n - k\n",
        "    for i in range(0, k):\n",
        "        num = num * (n - i)\n",
        "        num = num // (i + 1)\n",
        "    return num\n",
        "\n",
        "rows = int(input())\n",
        "print(pascal_triangle(rows))\n",
        "\n"
      ],
      "execution_count": null,
      "outputs": [
        {
          "output_type": "stream",
          "name": "stdout",
          "text": [
            "7\n",
            "1 \n",
            "1 1 \n",
            "1 2 1 \n",
            "1 3 3 1 \n",
            "1 4 6 4 1 \n",
            "1 5 10 10 5 1 \n",
            "1 6 15 20 15 6 1 \n",
            "None\n"
          ]
        }
      ]
    },
    {
      "cell_type": "markdown",
      "source": [
        "**-----------------------------------------------------------------------------------------------------------------------**"
      ],
      "metadata": {
        "id": "YJ9_jjegI_xN"
      }
    },
    {
      "cell_type": "markdown",
      "metadata": {
        "id": "CWBd_F3q32K0"
      },
      "source": [
        "8.\n",
        "```\n",
        "1 2 3 4 5\n",
        "2 2 3 4 5\n",
        "3 3 3 4 5\n",
        "4 4 4 4 5\n",
        "5 5 5 5 5\n",
        "```\n",
        "\n"
      ]
    },
    {
      "cell_type": "code",
      "metadata": {
        "id": "6GdU9FVw37IH",
        "colab": {
          "base_uri": "https://localhost:8080/"
        },
        "outputId": "8be041bc-15dc-44e3-b40c-fdc213088042"
      },
      "source": [
        "rows = int(input(\"Enter the Number - \"))\n",
        "print(\"----------------------------------------\")\n",
        "for i in range(1,rows+1):\n",
        "  for j in range(1,rows+1):\n",
        "    if j <= i:\n",
        "      print(i,end = ' ')\n",
        "    else:\n",
        "      print(j,end = ' ')\n",
        "  print()"
      ],
      "execution_count": null,
      "outputs": [
        {
          "output_type": "stream",
          "name": "stdout",
          "text": [
            "Enter the Number - 6\n",
            "----------------------------------------\n",
            "1 2 3 4 5 6 \n",
            "2 2 3 4 5 6 \n",
            "3 3 3 4 5 6 \n",
            "4 4 4 4 5 6 \n",
            "5 5 5 5 5 6 \n",
            "6 6 6 6 6 6 \n"
          ]
        }
      ]
    },
    {
      "cell_type": "markdown",
      "source": [
        "**--------------------------------------------------------------------------------------------------------------------**"
      ],
      "metadata": {
        "id": "OTwEd45qJGXZ"
      }
    },
    {
      "cell_type": "markdown",
      "source": [
        "**9.**\n",
        "```\n",
        "1\n",
        "2 4\n",
        "3 6 9\n",
        "4 8 12 16\n",
        "5 10 15 20 25\n",
        "6 12 18 24 30 36\n",
        "7 14 21 28 35 42 49\n",
        "8 16 24 32 40 48 56 64\n",
        "```\n",
        "\n"
      ],
      "metadata": {
        "id": "K3iwlkVrJK1l"
      }
    },
    {
      "cell_type": "code",
      "source": [
        "a = int(input(\"Enter the Number - \"))\n",
        "print(\"---------------------------------------------------------------\")\n",
        "for i in range(1,a+1):\n",
        "  for j in range(1,i+1):\n",
        "    print(i * j, end = ' ')\n",
        "  print()\n"
      ],
      "metadata": {
        "colab": {
          "base_uri": "https://localhost:8080/"
        },
        "id": "KYj7oXliI1f5",
        "outputId": "937c7b1e-b0a6-4e51-9c08-44282e3d6251"
      },
      "execution_count": null,
      "outputs": [
        {
          "output_type": "stream",
          "name": "stdout",
          "text": [
            "Enter the Number - 8\n",
            "---------------------------------------------------------------\n",
            "1 \n",
            "2 4 \n",
            "3 6 9 \n",
            "4 8 12 16 \n",
            "5 10 15 20 25 \n",
            "6 12 18 24 30 36 \n",
            "7 14 21 28 35 42 49 \n",
            "8 16 24 32 40 48 56 64 \n"
          ]
        }
      ]
    },
    {
      "cell_type": "markdown",
      "source": [
        "**----------------------------------------------------------------------------------------------------------------**"
      ],
      "metadata": {
        "id": "CbkhqYLMOOWZ"
      }
    }
  ]
}